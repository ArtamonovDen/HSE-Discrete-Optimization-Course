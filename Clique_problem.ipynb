{
 "cells": [
  {
   "cell_type": "markdown",
   "metadata": {},
   "source": [
    "# Лабораторная работа № 0\n",
    "\n",
    "### Пробуем CPLEX\n",
    "\n",
    "**Выполнил: Артамонов Д., 20 МАГ ИАД**"
   ]
  },
  {
   "cell_type": "code",
   "execution_count": 15,
   "metadata": {},
   "outputs": [],
   "source": [
    "from docplex.mp.model import Model\n",
    "from itertools import combinations"
   ]
  },
  {
   "cell_type": "code",
   "execution_count": null,
   "metadata": {},
   "outputs": [],
   "source": [
    "! mkdir -p cliques_problems"
   ]
  },
  {
   "cell_type": "code",
   "execution_count": 4,
   "metadata": {},
   "outputs": [
    {
     "name": "stdout",
     "output_type": "stream",
     "text": [
      "--2020-10-07 00:18:17--  http://iridia.ulb.ac.be/~fmascia/files/DIMACS/C125.9.clq\n",
      "Resolving iridia.ulb.ac.be (iridia.ulb.ac.be)... 164.15.254.91\n",
      "Connecting to iridia.ulb.ac.be (iridia.ulb.ac.be)|164.15.254.91|:80... connected.\n",
      "HTTP request sent, awaiting response... 200 OK\n",
      "Length: 58214 (57K)\n",
      "Saving to: ‘C125.9.clq’\n",
      "\n",
      "C125.9.clq          100%[===================>]  56,85K  --.-KB/s    in 0,1s    \n",
      "\n",
      "2020-10-07 00:18:17 (550 KB/s) - ‘C125.9.clq’ saved [58214/58214]\n",
      "\n"
     ]
    }
   ],
   "source": [
    "! cd cliques_problems && wget http://iridia.ulb.ac.be/~fmascia/files/DIMACS/C125.9.clq"
   ]
  },
  {
   "cell_type": "code",
   "execution_count": 2,
   "metadata": {},
   "outputs": [],
   "source": [
    "problem_C125 = 'cliques_problems/C125.9.clq'"
   ]
  },
  {
   "cell_type": "markdown",
   "metadata": {},
   "source": [
    "Читаем все рёбра из файла в список кортежей"
   ]
  },
  {
   "cell_type": "code",
   "execution_count": 3,
   "metadata": {},
   "outputs": [],
   "source": [
    "with open(problem_C125, 'r') as f:\n",
    "    edges = [\n",
    "        tuple(map(int,line.split()[1:3])) for line in f if line.startswith('e')\n",
    "    ]"
   ]
  },
  {
   "cell_type": "code",
   "execution_count": 40,
   "metadata": {},
   "outputs": [
    {
     "data": {
      "text/plain": [
       "6963"
      ]
     },
     "execution_count": 40,
     "metadata": {},
     "output_type": "execute_result"
    }
   ],
   "source": [
    "len(edges)"
   ]
  },
  {
   "cell_type": "markdown",
   "metadata": {},
   "source": [
    "Множество вершин"
   ]
  },
  {
   "cell_type": "code",
   "execution_count": 37,
   "metadata": {},
   "outputs": [],
   "source": [
    "nodes = set()\n",
    "for edge in edges:\n",
    "    nodes = nodes.union(set(edge))"
   ]
  },
  {
   "cell_type": "code",
   "execution_count": 39,
   "metadata": {},
   "outputs": [
    {
     "data": {
      "text/plain": [
       "125"
      ]
     },
     "execution_count": 39,
     "metadata": {},
     "output_type": "execute_result"
    }
   ],
   "source": [
    "len(nodes)"
   ]
  },
  {
   "cell_type": "markdown",
   "metadata": {},
   "source": [
    "После загрузки данных переходим к созданию модели"
   ]
  },
  {
   "cell_type": "markdown",
   "metadata": {},
   "source": [
    "Формулировка задачи максимальной клики как задачи линейного программирования"
   ]
  },
  {
   "cell_type": "markdown",
   "metadata": {},
   "source": [
    "$$\n",
    "\\sum_{i=1}^{N}x_i -> max \\\\\n",
    "s.t. x_i + x_j <= 1,    (i,j) \\in \\overline{E}\\\\\n",
    "x_i \\in \\{0,1\\}, i = 1,..,n\n",
    "$$"
   ]
  },
  {
   "cell_type": "code",
   "execution_count": 43,
   "metadata": {},
   "outputs": [],
   "source": [
    "m = Model(name='Max Clique')\n",
    "\n",
    "x = {i : m.binary_var(name= f'x_{i}') for i in nodes}\n",
    "\n",
    "for i,j in combinations(nodes,2):\n",
    "    if (i,j) not in edges and (j,i) not in edges:\n",
    "        m.add_constraint((x[i]+x[j])<=1)\n",
    "        \n",
    "m.maximize(m.sum(x))"
   ]
  },
  {
   "cell_type": "code",
   "execution_count": 45,
   "metadata": {},
   "outputs": [
    {
     "name": "stdout",
     "output_type": "stream",
     "text": [
      "Model: Max Clique\n",
      " - number of variables: 125\n",
      "   - binary=125, integer=0, continuous=0\n",
      " - number of constraints: 787\n",
      "   - linear=787\n",
      " - parameters: defaults\n",
      " - problem type is: MILP\n"
     ]
    }
   ],
   "source": [
    "m.print_information()"
   ]
  },
  {
   "cell_type": "code",
   "execution_count": 46,
   "metadata": {},
   "outputs": [
    {
     "name": "stdout",
     "output_type": "stream",
     "text": [
      "solution for: Max Clique\n",
      "objective: 34\n",
      "x_1 = 1\n",
      "x_2 = 1\n",
      "x_5 = 1\n",
      "x_7 = 1\n",
      "x_9 = 1\n",
      "x_11 = 1\n",
      "x_18 = 1\n",
      "x_25 = 1\n",
      "x_29 = 1\n",
      "x_31 = 1\n",
      "x_34 = 1\n",
      "x_44 = 1\n",
      "x_48 = 1\n",
      "x_49 = 1\n",
      "x_54 = 1\n",
      "x_60 = 1\n",
      "x_68 = 1\n",
      "x_70 = 1\n",
      "x_71 = 1\n",
      "x_77 = 1\n",
      "x_79 = 1\n",
      "x_80 = 1\n",
      "x_83 = 1\n",
      "x_85 = 1\n",
      "x_93 = 1\n",
      "x_99 = 1\n",
      "x_101 = 1\n",
      "x_110 = 1\n",
      "x_114 = 1\n",
      "x_115 = 1\n",
      "x_117 = 1\n",
      "x_121 = 1\n",
      "x_122 = 1\n",
      "x_123 = 1\n"
     ]
    }
   ],
   "source": [
    "solution= m.solve()\n",
    "assert solution\n",
    "solution.display()"
   ]
  },
  {
   "cell_type": "markdown",
   "metadata": {},
   "source": [
    "Попрубуем решить задачу для графа побольше"
   ]
  },
  {
   "cell_type": "code",
   "execution_count": 58,
   "metadata": {},
   "outputs": [],
   "source": [
    "def get_graph(problem):\n",
    "    with open(problem, 'r') as f:\n",
    "        edges = [\n",
    "            tuple(map(int,line.split()[1:3])) for line in f if line.startswith('e')\n",
    "        ]\n",
    "    nodes = set()\n",
    "    for edge in edges:\n",
    "        nodes = nodes.union(set(edge))\n",
    "    return nodes, edges"
   ]
  },
  {
   "cell_type": "code",
   "execution_count": 50,
   "metadata": {},
   "outputs": [
    {
     "name": "stdout",
     "output_type": "stream",
     "text": [
      "--2020-10-07 08:24:00--  http://iridia.ulb.ac.be/~fmascia/files/DIMACS/p_hat300-1.clq\n",
      "Resolving iridia.ulb.ac.be (iridia.ulb.ac.be)... 164.15.254.91\n",
      "Connecting to iridia.ulb.ac.be (iridia.ulb.ac.be)|164.15.254.91|:80... connected.\n",
      "HTTP request sent, awaiting response... 200 OK\n",
      "Length: 102408 (100K)\n",
      "Saving to: ‘p_hat300-1.clq’\n",
      "\n",
      "p_hat300-1.clq      100%[===================>] 100,01K   263KB/s    in 0,4s    \n",
      "\n",
      "2020-10-07 08:24:01 (263 KB/s) - ‘p_hat300-1.clq’ saved [102408/102408]\n",
      "\n"
     ]
    }
   ],
   "source": [
    "! cd cliques_problems && wget http://iridia.ulb.ac.be/~fmascia/files/DIMACS/p_hat300-1.clq"
   ]
  },
  {
   "cell_type": "code",
   "execution_count": 59,
   "metadata": {},
   "outputs": [],
   "source": [
    "nodes, edges = get_graph('cliques_problems/p_hat300-1.clq')"
   ]
  },
  {
   "cell_type": "code",
   "execution_count": 62,
   "metadata": {},
   "outputs": [
    {
     "name": "stdout",
     "output_type": "stream",
     "text": [
      "Число вершин: 300, число рёбер: 10933\n"
     ]
    }
   ],
   "source": [
    "print(f'Число вершин: {len(nodes)}, число рёбер: {len(edges)}')"
   ]
  },
  {
   "cell_type": "code",
   "execution_count": 63,
   "metadata": {},
   "outputs": [],
   "source": [
    "m = Model(name='Max Clique')\n",
    "\n",
    "x = {i : m.binary_var(name= f'x_{i}') for i in nodes}\n",
    "\n",
    "for i,j in combinations(nodes,2):\n",
    "    if (i,j) not in edges and (j,i) not in edges:\n",
    "        m.add_constraint((x[i]+x[j])<=1)\n",
    "        \n",
    "m.maximize(m.sum(x))"
   ]
  },
  {
   "cell_type": "code",
   "execution_count": 64,
   "metadata": {},
   "outputs": [
    {
     "name": "stdout",
     "output_type": "stream",
     "text": [
      "Model: Max Clique\n",
      " - number of variables: 300\n",
      "   - binary=300, integer=0, continuous=0\n",
      " - number of constraints: 33917\n",
      "   - linear=33917\n",
      " - parameters: defaults\n",
      " - problem type is: MILP\n"
     ]
    }
   ],
   "source": [
    "m.print_information()"
   ]
  },
  {
   "cell_type": "code",
   "execution_count": 65,
   "metadata": {},
   "outputs": [
    {
     "name": "stdout",
     "output_type": "stream",
     "text": [
      "solution for: Max Clique\n",
      "objective: 8\n",
      "x_115 = 1\n",
      "x_122 = 1\n",
      "x_133 = 1\n",
      "x_174 = 1\n",
      "x_190 = 1\n",
      "x_200 = 1\n",
      "x_250 = 1\n",
      "x_299 = 1\n"
     ]
    }
   ],
   "source": [
    "solution= m.solve()\n",
    "assert solution\n",
    "solution.display()"
   ]
  }
 ],
 "metadata": {
  "kernelspec": {
   "display_name": "Python 3",
   "language": "python",
   "name": "python3"
  },
  "language_info": {
   "codemirror_mode": {
    "name": "ipython",
    "version": 3
   },
   "file_extension": ".py",
   "mimetype": "text/x-python",
   "name": "python",
   "nbconvert_exporter": "python",
   "pygments_lexer": "ipython3",
   "version": "3.6.7"
  }
 },
 "nbformat": 4,
 "nbformat_minor": 4
}
